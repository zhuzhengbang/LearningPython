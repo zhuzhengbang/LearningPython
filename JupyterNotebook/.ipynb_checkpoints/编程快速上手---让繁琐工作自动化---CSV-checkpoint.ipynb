{
 "cells": [
  {
   "cell_type": "code",
   "execution_count": 2,
   "metadata": {},
   "outputs": [],
   "source": [
    "import csv"
   ]
  },
  {
   "cell_type": "code",
   "execution_count": 5,
   "metadata": {},
   "outputs": [],
   "source": [
    "exampleFile = open(r'E:\\03 R&D\\PY\\Automate_the_Boring_Stuff_onlinematerials\\automate_online-materials\\example.csv')"
   ]
  },
  {
   "cell_type": "code",
   "execution_count": 6,
   "metadata": {},
   "outputs": [
    {
     "data": {
      "text/plain": [
       "[['4/5/2014 13:34', 'Apples', '73'],\n",
       " ['4/5/2014 3:41', 'Cherries', '85'],\n",
       " ['4/6/2014 12:46', 'Pears', '14'],\n",
       " ['4/8/2014 8:59', 'Oranges', '52'],\n",
       " ['4/10/2014 2:07', 'Apples', '152'],\n",
       " ['4/10/2014 18:10', 'Bananas', '23'],\n",
       " ['4/10/2014 2:40', 'Strawberries', '98']]"
      ]
     },
     "execution_count": 6,
     "metadata": {},
     "output_type": "execute_result"
    }
   ],
   "source": [
    "exampleReader = csv.reader(exampleFile)\n",
    "exampleData = list(exampleReader)\n",
    "exampleData"
   ]
  },
  {
   "cell_type": "code",
   "execution_count": 14,
   "metadata": {},
   "outputs": [
    {
     "name": "stdout",
     "output_type": "stream",
     "text": [
      "Row #1 ['4/5/2014 13:34', 'Apples', '73']\n",
      "Row #2 ['4/5/2014 3:41', 'Cherries', '85']\n",
      "Row #3 ['4/6/2014 12:46', 'Pears', '14']\n",
      "Row #4 ['4/8/2014 8:59', 'Oranges', '52']\n",
      "Row #5 ['4/10/2014 2:07', 'Apples', '152']\n",
      "Row #6 ['4/10/2014 18:10', 'Bananas', '23']\n",
      "Row #7 ['4/10/2014 2:40', 'Strawberries', '98']\n"
     ]
    }
   ],
   "source": [
    "exampleFile = open(r'E:\\03 R&D\\PY\\Automate_the_Boring_Stuff_onlinematerials\\automate_online-materials\\example.csv')\n",
    "exampleReader = csv.reader(exampleFile)\n",
    "for row in exampleReader:\n",
    "    print('Row #'+str(exampleReader.line_num)+' '+str(row))"
   ]
  },
  {
   "cell_type": "code",
   "execution_count": 16,
   "metadata": {},
   "outputs": [],
   "source": [
    "import csv\n",
    "outputFile = open('output.csv','w',newline='')\n",
    "outputWriter = csv.writer(outputFile)\n",
    "outputWriter.writerow(['spam','eggs','bacon','ham'])\n",
    "outputWriter.writerow(['Hello,world!','eggs','bacon','ham'])\n",
    "outputWriter.writerow([1,2,3.141592,4])\n",
    "outputFile.close()"
   ]
  },
  {
   "cell_type": "code",
   "execution_count": null,
   "metadata": {},
   "outputs": [],
   "source": []
  }
 ],
 "metadata": {
  "kernelspec": {
   "display_name": "Python 3",
   "language": "python",
   "name": "python3"
  },
  "language_info": {
   "codemirror_mode": {
    "name": "ipython",
    "version": 3
   },
   "file_extension": ".py",
   "mimetype": "text/x-python",
   "name": "python",
   "nbconvert_exporter": "python",
   "pygments_lexer": "ipython3",
   "version": "3.6.2"
  }
 },
 "nbformat": 4,
 "nbformat_minor": 2
}
