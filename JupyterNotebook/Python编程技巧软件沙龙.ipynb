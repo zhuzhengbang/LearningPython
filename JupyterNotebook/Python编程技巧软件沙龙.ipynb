{
 "cells": [
  {
   "cell_type": "code",
   "execution_count": null,
   "metadata": {},
   "outputs": [],
   "source": [
    "在python中，可以将多个比较运算符写在一起：\n",
    "比如 if a>1 and a<3 可以写成  if 1<a<3"
   ]
  },
  {
   "cell_type": "code",
   "execution_count": null,
   "metadata": {},
   "outputs": [],
   "source": [
    "python的自动tuple打包和解包可以做到这点：\n",
    "将a\\b的值交换：tmp=a a=b b=tmp 可以写成  a,b=b,a\n",
    "将a\\b\\c的值交换：a,b,c=c,a,b"
   ]
  },
  {
   "cell_type": "code",
   "execution_count": null,
   "metadata": {},
   "outputs": [],
   "source": [
    "读字典时避免判断键值是否存在：\n",
    "假设 d = {'aa':1,'bb':2}\n",
    "if k in d: \n",
    "    v=d[k] \n",
    "else:\n",
    "    v=None\n",
    "可以写成：v=d.get(k,None)"
   ]
  },
  {
   "cell_type": "code",
   "execution_count": null,
   "metadata": {},
   "outputs": [],
   "source": [
    "避免字典成员是复杂对象的初始化：\n",
    "当字典的value部分，是一个复杂的结构时，初始化一个新的item时，可以利用setdefault方法：\n",
    "if not y in d:\n",
    "    d[y] = {}\n",
    "d[y][x]=3\n",
    "可以写成：d.setdefault(y,{})[x]=3\n",
    "\n",
    "if y not in d:\n",
    "    d[y]=[]\n",
    "d[y].append(x)\n",
    "可以写成：d.setdefault(y,[]).append(x)"
   ]
  },
  {
   "cell_type": "code",
   "execution_count": null,
   "metadata": {},
   "outputs": [],
   "source": [
    "给定两个字典，找出它们共有的键的集合：\n",
    "假设:\n",
    "some_dict={'zope':'zzz','python':'rocks'}\n",
    "another_dict={'python':'rocks','perl','$'}\n",
    "\n",
    "较差的做法：\n",
    "intersect=[]\n",
    "for item in some_dict.keys():\n",
    "    if another_dict.has_key(item):\n",
    "        intersect.append(item)\n",
    "\n",
    "较好的做法（简洁，性能也不错）：\n",
    "intersect=[k for k in some_dict if k in another_dict]\n",
    "最好的做法（简洁，性能也好）：\n",
    "intersect = filter(another_dict.has_key,some_dict.keys())"
   ]
  },
  {
   "cell_type": "code",
   "execution_count": null,
   "metadata": {},
   "outputs": [],
   "source": [
    "通过index遍历一个list或tuple：\n",
    "遍历一个list或者tuple时，希望同时得到当前item的下标和值：\n",
    "for i in range(len(l)):\n",
    "    print i,l[i];\n",
    "可以写成：\n",
    "for i,v in enumerate(l):\n",
    "    print i,v"
   ]
  },
  {
   "cell_type": "code",
   "execution_count": null,
   "metadata": {},
   "outputs": [],
   "source": [
    "遍历字符串的每一个字符：\n",
    "假设s=\"abcdefg\"\n",
    "不好的写法：\n",
    "for i in range(len(s)):\n",
    "    print(s[i])\n",
    "较好的写法：\n",
    "for c in s:\n",
    "    print(c);"
   ]
  },
  {
   "cell_type": "code",
   "execution_count": null,
   "metadata": {},
   "outputs": [],
   "source": [
    "排版字符串：\n",
    "在输出某些报告时，经常需要将字符串居中、居右、居左对齐等\n",
    "假设text是一个字符串：\n",
    "if len(text)<10:\n",
    "    text = text +''*(10-len(text))\n",
    "较好的写法：text=text.ljust（10）\n",
    "另外：text=text.rjust(10)\n",
    "text=text.center(10)"
   ]
  },
  {
   "cell_type": "code",
   "execution_count": null,
   "metadata": {},
   "outputs": [],
   "source": [
    "从一个list中，提取满足一定条件的元素，放入新的list中：\n",
    "假设list_1=[1,2,3,4,5],将里面的偶数放入一个新的list中：\n",
    "list_2=[v for v in list_1 if v%2==0]"
   ]
  },
  {
   "cell_type": "code",
   "execution_count": null,
   "metadata": {},
   "outputs": [],
   "source": [
    "使用os.path处理文件路径：\n",
    "使用os.path来处理路径，可以不用考虑windows、linux的差异；\n",
    "可以不用考虑当前路径是否已‘\\’结尾等\n",
    "if path_1[-1]==\"\\\\\":\n",
    "    path_2=path_1+\"code\\\\OMU\"\n",
    "else:\n",
    "    path_2=path_1+\"\\\\code\"\n",
    "应用path：path_2=os.path.join(path_1,\"code\",\"OMU\")"
   ]
  },
  {
   "cell_type": "code",
   "execution_count": null,
   "metadata": {},
   "outputs": [],
   "source": [
    "字符串的拼接和分割：\n",
    "用制定的字符串拼接一系列的字符串：\n",
    "“，”.join([\"a\",\"b\",\"c\"])\n",
    "a,b,c\n",
    "\",\".join(\"abc\")\n",
    "a,b,c\n",
    "用split将字符串按照指定的子串分割：\n",
    "‘a,b,c’.split(\",\")"
   ]
  },
  {
   "cell_type": "code",
   "execution_count": null,
   "metadata": {},
   "outputs": [],
   "source": [
    "使用正则表达式：\n",
    "强大的字符串解析利器——正则表达式\n",
    "提取枚举名称和整数值：\n",
    "import re\n",
    "s = \"JAN~1 FEB~2 MAR~3 APR~4 MAY~5 JUN~6\"\n",
    "p=re.compile(r\"([A-Z]+)~(\\d+)\")\n",
    "print p.findall(s)"
   ]
  },
  {
   "cell_type": "code",
   "execution_count": null,
   "metadata": {},
   "outputs": [],
   "source": [
    "避免用列表、字典作为函数参数的默认值：\n",
    "我们不应该使用list、字典等可变类型的值作为函数参数的默认值：\n",
    "\n",
    "def fun(v,l=[]):\n",
    "    l.append(v)\n",
    "    print(l)\n",
    "    \n",
    "较好的写法是：\n",
    "def fun(v,l=None):\n",
    "    if l==None:\n",
    "        l=[]\n",
    "    l.append(v)"
   ]
  },
  {
   "cell_type": "code",
   "execution_count": null,
   "metadata": {},
   "outputs": [],
   "source": [
    "小心list的+=操作：\n",
    "a = range(10)\n",
    "b = range(5)\n",
    "a_orig = a\n",
    "a += b\n",
    "print a\n",
    "print a_orig #a_orig在以上处理过程中取值被改变了\n",
    "\n",
    "a = range(10)\n",
    "b = range(5)\n",
    "a_orig = a\n",
    "a = a+b\n",
    "print a\n",
    "print a_orig #a_orig还是原来的值，没有变"
   ]
  },
  {
   "cell_type": "code",
   "execution_count": null,
   "metadata": {},
   "outputs": [],
   "source": [
    "同一函数的返回值形式要统一：返回值类型和个数要统一"
   ]
  },
  {
   "cell_type": "code",
   "execution_count": null,
   "metadata": {},
   "outputs": [],
   "source": [
    "许多短字符串并成长字符串时：\n",
    "假设：shortStrs=[str1,str2,...,strN]\n",
    "大家通常会这样：\n",
    "longStr =‘’\n",
    "for s in shortStrs:\n",
    "    longStr += s\n",
    "正确的做法是：\n",
    "longStr=\"\".join(shortStrs)\n",
    "Python里面的字串是不可变的，所以每次longStr+=s 都是将原来的longStr与str拷贝成一个新字符串，再赋值给longStr"
   ]
  },
  {
   "cell_type": "code",
   "execution_count": null,
   "metadata": {},
   "outputs": [],
   "source": [
    "for循环中，使用xrange代替range\n",
    "v=0\n",
    "for i in xrange（10000）:\n",
    "    v+=i"
   ]
  },
  {
   "cell_type": "code",
   "execution_count": null,
   "metadata": {},
   "outputs": [],
   "source": [
    "减少全局变量访问的次数"
   ]
  },
  {
   "cell_type": "code",
   "execution_count": null,
   "metadata": {},
   "outputs": [],
   "source": [
    "利用set，获取不重复的元素：\n",
    "\n",
    "较好的做法：\n",
    "s = set()\n",
    "for i in list_1:\n",
    "    s.add(i)\n",
    "list2 = list(s)\n",
    "\n",
    "最好的做法：\n",
    "list_2=list(set(list_1))"
   ]
  },
  {
   "cell_type": "code",
   "execution_count": null,
   "metadata": {},
   "outputs": [],
   "source": [
    "判断字典中是否存在一个指定的key：\n",
    "python的初学者，往往会写出类似下面的代码：\n",
    "d = {}\n",
    "if k in d.keys():\n",
    "    print 'k is found'\n",
    "正确的做法是：\n",
    "d = {}\n",
    "if k in d:\n",
    "    print 'k is found'"
   ]
  },
  {
   "cell_type": "code",
   "execution_count": null,
   "metadata": {},
   "outputs": [],
   "source": [
    "用profile协助程序性能优化：\n",
    "profile可以将每个函数执行的时间统计出来，这样可以根据统计结果分析最耗时的函数：\n",
    "def foo():\n",
    "    sum=0\n",
    "    for i in xrange(100):\n",
    "        sum+=i\n",
    "    return sum\n",
    "\n",
    "if __name__==\"__main__\":\n",
    "    import profile\n",
    "    profile.fun(\"foo()\")"
   ]
  }
 ],
 "metadata": {
  "kernelspec": {
   "display_name": "Python 3",
   "language": "python",
   "name": "python3"
  },
  "language_info": {
   "codemirror_mode": {
    "name": "ipython",
    "version": 3
   },
   "file_extension": ".py",
   "mimetype": "text/x-python",
   "name": "python",
   "nbconvert_exporter": "python",
   "pygments_lexer": "ipython3",
   "version": "3.6.2"
  }
 },
 "nbformat": 4,
 "nbformat_minor": 2
}
